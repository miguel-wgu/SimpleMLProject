{
 "cells": [
  {
   "cell_type": "markdown",
   "source": [
    "# Intro to Scikit-Learn\n",
    "\n",
    "This notebook will serve to go over useful sklearn functions. Here is the order of contents:\n",
    "\n",
    "0. End-toend sklearn workflow\n",
    "1. Getting the data ready\n",
    "2. Choose an estimator (model)\n",
    "3. Fit the model and use it to make predictions\n",
    "4. Evaluate the model\n",
    "5. Improve the model\n",
    "6. Save and load a trained model\n",
    "7. Putting it all together "
   ],
   "metadata": {
    "collapsed": false
   },
   "id": "9527773d71be1"
  },
  {
   "cell_type": "markdown",
   "source": [
    "## 0. End-to-end Scikit-Learn workflow"
   ],
   "metadata": {
    "collapsed": false
   },
   "id": "c43efdd22d5948ee"
  },
  {
   "cell_type": "code",
   "outputs": [],
   "source": [
    "# 1. Get the data ready\n",
    "import pandas as pd"
   ],
   "metadata": {
    "collapsed": false,
    "ExecuteTime": {
     "end_time": "2024-01-26T05:59:35.662718100Z",
     "start_time": "2024-01-26T05:59:35.275389100Z"
    }
   },
   "id": "58876f57bbf9492a",
   "execution_count": 1
  }
 ],
 "metadata": {
  "kernelspec": {
   "display_name": "Python 3",
   "language": "python",
   "name": "python3"
  },
  "language_info": {
   "codemirror_mode": {
    "name": "ipython",
    "version": 2
   },
   "file_extension": ".py",
   "mimetype": "text/x-python",
   "name": "python",
   "nbconvert_exporter": "python",
   "pygments_lexer": "ipython2",
   "version": "2.7.6"
  }
 },
 "nbformat": 4,
 "nbformat_minor": 5
}
