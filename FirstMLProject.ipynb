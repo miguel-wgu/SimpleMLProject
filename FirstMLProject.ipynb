{
 "cells": [
  {
   "cell_type": "markdown",
   "source": [
    "# Intro to Pandas"
   ],
   "metadata": {
    "collapsed": false
   },
   "id": "9527773d71be1"
  },
  {
   "cell_type": "code",
   "outputs": [],
   "source": [
    "import pandas as pd"
   ],
   "metadata": {
    "collapsed": false,
    "ExecuteTime": {
     "end_time": "2024-01-26T06:17:52.112299300Z",
     "start_time": "2024-01-26T06:17:52.084275200Z"
    }
   },
   "id": "66fe6d6aa5c4bd2e",
   "execution_count": 17
  },
  {
   "cell_type": "code",
   "outputs": [],
   "source": [
    "# 2 main datatypes\n",
    "series = pd.Series([\"BMW\", \"Toyota\", \"Honda\"]) # List\n",
    "# series = pd.Series({'a': 'BMW', 'b': 'Toyota', 'c': 'Honda'}) # Dictionary\n",
    "# series = pd.Series(5, index=[0, 1, 2, 3, 4, 5]) # Scalar"
   ],
   "metadata": {
    "collapsed": false,
    "ExecuteTime": {
     "end_time": "2024-01-26T06:17:52.119305600Z",
     "start_time": "2024-01-26T06:17:52.103292500Z"
    }
   },
   "id": "e7a76394b523bbb1",
   "execution_count": 18
  },
  {
   "cell_type": "code",
   "outputs": [
    {
     "data": {
      "text/plain": "0       BMW\n1    Toyota\n2     Honda\ndtype: object"
     },
     "execution_count": 19,
     "metadata": {},
     "output_type": "execute_result"
    }
   ],
   "source": [
    "series"
   ],
   "metadata": {
    "collapsed": false,
    "ExecuteTime": {
     "end_time": "2024-01-26T06:17:52.145327900Z",
     "start_time": "2024-01-26T06:17:52.117303600Z"
    }
   },
   "id": "58876f57bbf9492a",
   "execution_count": 19
  },
  {
   "cell_type": "code",
   "outputs": [],
   "source": [],
   "metadata": {
    "collapsed": false,
    "ExecuteTime": {
     "end_time": "2024-01-26T06:17:52.152334Z",
     "start_time": "2024-01-26T06:17:52.133317600Z"
    }
   },
   "id": "54f04f7b18b665",
   "execution_count": 19
  },
  {
   "cell_type": "code",
   "outputs": [],
   "source": [],
   "metadata": {
    "collapsed": false,
    "ExecuteTime": {
     "end_time": "2024-01-26T06:17:52.164344400Z",
     "start_time": "2024-01-26T06:17:52.150332200Z"
    }
   },
   "id": "a41ea7bb39d4b5fb",
   "execution_count": 19
  }
 ],
 "metadata": {
  "kernelspec": {
   "display_name": "Python 3",
   "language": "python",
   "name": "python3"
  },
  "language_info": {
   "codemirror_mode": {
    "name": "ipython",
    "version": 2
   },
   "file_extension": ".py",
   "mimetype": "text/x-python",
   "name": "python",
   "nbconvert_exporter": "python",
   "pygments_lexer": "ipython2",
   "version": "2.7.6"
  }
 },
 "nbformat": 4,
 "nbformat_minor": 5
}
