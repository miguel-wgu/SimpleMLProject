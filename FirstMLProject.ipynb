{
 "cells": [
  {
   "cell_type": "markdown",
   "source": [
    "# Intro to Pandas"
   ],
   "metadata": {
    "collapsed": false
   },
   "id": "9527773d71be1"
  },
  {
   "cell_type": "code",
   "outputs": [],
   "source": [
    "import pandas as pd"
   ],
   "metadata": {
    "collapsed": false,
    "ExecuteTime": {
     "end_time": "2024-01-26T06:26:25.763039300Z",
     "start_time": "2024-01-26T06:26:25.746024100Z"
    }
   },
   "id": "66fe6d6aa5c4bd2e",
   "execution_count": 24
  },
  {
   "cell_type": "markdown",
   "source": [
    "## Series\n",
    "\n",
    "A series is a 1-dimensional array that can hold any data type such as integers, floats and strings.\n",
    "It is similar to a column in a spreadsheet or a SQL table.\n",
    "The example below contains three examples of series, but we will be running a series with a list of cars."
   ],
   "metadata": {
    "collapsed": false
   },
   "id": "9d530a415282e65b"
  },
  {
   "cell_type": "code",
   "outputs": [
    {
     "data": {
      "text/plain": "0       BMW\n1    Toyota\n2     Honda\ndtype: object"
     },
     "execution_count": 28,
     "metadata": {},
     "output_type": "execute_result"
    }
   ],
   "source": [
    "# 2 main datatypes\n",
    "cars = pd.Series([\"BMW\", \"Toyota\", \"Honda\"]) # List\n",
    "# series = pd.Series({'a': 'BMW', 'b': 'Toyota', 'c': 'Honda'}) # Dictionary\n",
    "# series = pd.Series(5, index=[0, 1, 2, 3, 4, 5]) # Scalar\n",
    "cars"
   ],
   "metadata": {
    "collapsed": false,
    "ExecuteTime": {
     "end_time": "2024-01-26T06:31:33.007026900Z",
     "start_time": "2024-01-26T06:31:32.997017600Z"
    }
   },
   "id": "e7a76394b523bbb1",
   "execution_count": 28
  },
  {
   "cell_type": "code",
   "outputs": [
    {
     "data": {
      "text/plain": "0      Red\n1     Blue\n2    White\ndtype: object"
     },
     "execution_count": 27,
     "metadata": {},
     "output_type": "execute_result"
    }
   ],
   "source": [
    "colors = pd.Series([\"Red\", \"Blue\", \"White\"])\n",
    "colors"
   ],
   "metadata": {
    "collapsed": false,
    "ExecuteTime": {
     "end_time": "2024-01-26T06:31:26.367184600Z",
     "start_time": "2024-01-26T06:31:26.357175800Z"
    }
   },
   "id": "39ef10e40e28d665",
   "execution_count": 27
  },
  {
   "cell_type": "markdown",
   "source": [
    "## DataFrames\n",
    "\n",
    "A DataFrame is a 2-dimensional array that can hold any data type similar to a series.\n",
    "It is size-mutable, meaning that columns can be inserted and deleted from the DataFrame.\n",
    "Can be heterogeneous, i.e. it can contain data of different types with a structure consisting of labels and axes.\n",
    "Additionally, it can support missing data, which is marked as NaN."
   ],
   "metadata": {
    "collapsed": false
   },
   "id": "e60901261657eee6"
  },
  {
   "cell_type": "code",
   "outputs": [
    {
     "data": {
      "text/plain": "  Car make  Color\n0      BMW    Red\n1   Toyota   Blue\n2    Honda  White",
      "text/html": "<div>\n<style scoped>\n    .dataframe tbody tr th:only-of-type {\n        vertical-align: middle;\n    }\n\n    .dataframe tbody tr th {\n        vertical-align: top;\n    }\n\n    .dataframe thead th {\n        text-align: right;\n    }\n</style>\n<table border=\"1\" class=\"dataframe\">\n  <thead>\n    <tr style=\"text-align: right;\">\n      <th></th>\n      <th>Car make</th>\n      <th>Color</th>\n    </tr>\n  </thead>\n  <tbody>\n    <tr>\n      <th>0</th>\n      <td>BMW</td>\n      <td>Red</td>\n    </tr>\n    <tr>\n      <th>1</th>\n      <td>Toyota</td>\n      <td>Blue</td>\n    </tr>\n    <tr>\n      <th>2</th>\n      <td>Honda</td>\n      <td>White</td>\n    </tr>\n  </tbody>\n</table>\n</div>"
     },
     "execution_count": 30,
     "metadata": {},
     "output_type": "execute_result"
    }
   ],
   "source": [
    "car_data = pd.DataFrame({\"Car make\": cars, \"Color\": colors})\n",
    "car_data"
   ],
   "metadata": {
    "collapsed": false,
    "ExecuteTime": {
     "end_time": "2024-01-26T06:32:20.619904300Z",
     "start_time": "2024-01-26T06:32:20.595884100Z"
    }
   },
   "id": "a41ea7bb39d4b5fb",
   "execution_count": 30
  }
 ],
 "metadata": {
  "kernelspec": {
   "display_name": "Python 3",
   "language": "python",
   "name": "python3"
  },
  "language_info": {
   "codemirror_mode": {
    "name": "ipython",
    "version": 2
   },
   "file_extension": ".py",
   "mimetype": "text/x-python",
   "name": "python",
   "nbconvert_exporter": "python",
   "pygments_lexer": "ipython2",
   "version": "2.7.6"
  }
 },
 "nbformat": 4,
 "nbformat_minor": 5
}
