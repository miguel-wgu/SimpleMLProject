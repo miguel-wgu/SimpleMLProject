{
 "cells": [
  {
   "cell_type": "markdown",
   "source": [
    "# Intro to Pandas"
   ],
   "metadata": {
    "collapsed": false
   },
   "id": "9527773d71be1"
  },
  {
   "cell_type": "code",
   "outputs": [],
   "source": [
    "import pandas as pd"
   ],
   "metadata": {
    "collapsed": false,
    "ExecuteTime": {
     "end_time": "2024-01-27T01:15:15.925204100Z",
     "start_time": "2024-01-27T01:15:15.588897700Z"
    }
   },
   "id": "66fe6d6aa5c4bd2e",
   "execution_count": 1
  },
  {
   "cell_type": "markdown",
   "source": [
    "## Series\n",
    "\n",
    "A series is a 1-dimensional array that can hold any data type such as integers, floats and strings.\n",
    "It is similar to a column in a spreadsheet or a SQL table.\n",
    "The example below contains three examples of series, but we will be running a series with a list of cars."
   ],
   "metadata": {
    "collapsed": false
   },
   "id": "9d530a415282e65b"
  },
  {
   "cell_type": "code",
   "outputs": [
    {
     "data": {
      "text/plain": "0       BMW\n1    Toyota\n2     Honda\ndtype: object"
     },
     "execution_count": 2,
     "metadata": {},
     "output_type": "execute_result"
    }
   ],
   "source": [
    "cars = pd.Series([\"BMW\", \"Toyota\", \"Honda\"]) # List\n",
    "# series = pd.Series({'a': 'BMW', 'b': 'Toyota', 'c': 'Honda'}) # Dictionary\n",
    "# series = pd.Series(5, index=[0, 1, 2, 3, 4, 5]) # Scalar\n",
    "cars"
   ],
   "metadata": {
    "collapsed": false,
    "ExecuteTime": {
     "end_time": "2024-01-27T01:15:15.936214200Z",
     "start_time": "2024-01-27T01:15:15.914193600Z"
    }
   },
   "id": "e7a76394b523bbb1",
   "execution_count": 2
  },
  {
   "cell_type": "code",
   "outputs": [
    {
     "data": {
      "text/plain": "0      Red\n1     Blue\n2    White\ndtype: object"
     },
     "execution_count": 3,
     "metadata": {},
     "output_type": "execute_result"
    }
   ],
   "source": [
    "colors = pd.Series([\"Red\", \"Blue\", \"White\"])\n",
    "colors"
   ],
   "metadata": {
    "collapsed": false,
    "ExecuteTime": {
     "end_time": "2024-01-27T01:15:15.954230600Z",
     "start_time": "2024-01-27T01:15:15.928206500Z"
    }
   },
   "id": "39ef10e40e28d665",
   "execution_count": 3
  },
  {
   "cell_type": "markdown",
   "source": [
    "## DataFrames\n",
    "\n",
    "A DataFrame is a 2-dimensional array that can hold any data type similar to a series.\n",
    "It is size-mutable, meaning that columns can be inserted and deleted from the DataFrame.\n",
    "Can be heterogeneous, i.e. it can contain data of different types with a structure consisting of labels and axes.\n",
    "- Row (axis=0), Column (axis=1)\n",
    "\n",
    "Additionally, it can support missing data, which is marked as NaN."
   ],
   "metadata": {
    "collapsed": false
   },
   "id": "e60901261657eee6"
  },
  {
   "cell_type": "code",
   "outputs": [
    {
     "data": {
      "text/plain": "  Car make  Color\n0      BMW    Red\n1   Toyota   Blue\n2    Honda  White",
      "text/html": "<div>\n<style scoped>\n    .dataframe tbody tr th:only-of-type {\n        vertical-align: middle;\n    }\n\n    .dataframe tbody tr th {\n        vertical-align: top;\n    }\n\n    .dataframe thead th {\n        text-align: right;\n    }\n</style>\n<table border=\"1\" class=\"dataframe\">\n  <thead>\n    <tr style=\"text-align: right;\">\n      <th></th>\n      <th>Car make</th>\n      <th>Color</th>\n    </tr>\n  </thead>\n  <tbody>\n    <tr>\n      <th>0</th>\n      <td>BMW</td>\n      <td>Red</td>\n    </tr>\n    <tr>\n      <th>1</th>\n      <td>Toyota</td>\n      <td>Blue</td>\n    </tr>\n    <tr>\n      <th>2</th>\n      <td>Honda</td>\n      <td>White</td>\n    </tr>\n  </tbody>\n</table>\n</div>"
     },
     "execution_count": 4,
     "metadata": {},
     "output_type": "execute_result"
    }
   ],
   "source": [
    "car_data = pd.DataFrame({\"Car make\": cars, \"Color\": colors})\n",
    "car_data"
   ],
   "metadata": {
    "collapsed": false,
    "ExecuteTime": {
     "end_time": "2024-01-27T01:15:15.964239100Z",
     "start_time": "2024-01-27T01:15:15.944221700Z"
    }
   },
   "id": "a41ea7bb39d4b5fb",
   "execution_count": 4
  },
  {
   "cell_type": "markdown",
   "source": [
    "### Import data from CSV file\n",
    "\n",
    "The example will import a CSV file containing car sales data.\n",
    "However, you can import data using a URL. Here is what that would look like:\n",
    "\n",
    "```\n",
    "car_sales_tracker_df = pd.read_csv(\"https://raw.githubusercontent.com/miguel-wgu/SimpleMLProject/main/data/car_sales_tracker.csv\")\n",
    "```\n",
    "The url must be a raw file from GitHub, and this one comes directly from my GitHub repo."
   ],
   "metadata": {
    "collapsed": false
   },
   "id": "68e23c4462dcca91"
  },
  {
   "cell_type": "code",
   "outputs": [
    {
     "data": {
      "text/plain": "     Make Colour  Odometer (KM)  Doors       Price\n0  Toyota  White         150043      4   $4,000.00\n1   Honda    Red          87899      4   $5,000.00\n2  Toyota   Blue          32549      3   $7,000.00\n3     BMW  Black          11179      5  $22,000.00\n4  Nissan  White         213095      4   $3,500.00\n5  Toyota  Green          99213      4   $4,500.00\n6   Honda   Blue          45698      4   $7,500.00\n7   Honda   Blue          54738      4   $7,000.00\n8  Toyota  White          60000      4   $6,250.00\n9  Nissan  White          31600      4   $9,700.00",
      "text/html": "<div>\n<style scoped>\n    .dataframe tbody tr th:only-of-type {\n        vertical-align: middle;\n    }\n\n    .dataframe tbody tr th {\n        vertical-align: top;\n    }\n\n    .dataframe thead th {\n        text-align: right;\n    }\n</style>\n<table border=\"1\" class=\"dataframe\">\n  <thead>\n    <tr style=\"text-align: right;\">\n      <th></th>\n      <th>Make</th>\n      <th>Colour</th>\n      <th>Odometer (KM)</th>\n      <th>Doors</th>\n      <th>Price</th>\n    </tr>\n  </thead>\n  <tbody>\n    <tr>\n      <th>0</th>\n      <td>Toyota</td>\n      <td>White</td>\n      <td>150043</td>\n      <td>4</td>\n      <td>$4,000.00</td>\n    </tr>\n    <tr>\n      <th>1</th>\n      <td>Honda</td>\n      <td>Red</td>\n      <td>87899</td>\n      <td>4</td>\n      <td>$5,000.00</td>\n    </tr>\n    <tr>\n      <th>2</th>\n      <td>Toyota</td>\n      <td>Blue</td>\n      <td>32549</td>\n      <td>3</td>\n      <td>$7,000.00</td>\n    </tr>\n    <tr>\n      <th>3</th>\n      <td>BMW</td>\n      <td>Black</td>\n      <td>11179</td>\n      <td>5</td>\n      <td>$22,000.00</td>\n    </tr>\n    <tr>\n      <th>4</th>\n      <td>Nissan</td>\n      <td>White</td>\n      <td>213095</td>\n      <td>4</td>\n      <td>$3,500.00</td>\n    </tr>\n    <tr>\n      <th>5</th>\n      <td>Toyota</td>\n      <td>Green</td>\n      <td>99213</td>\n      <td>4</td>\n      <td>$4,500.00</td>\n    </tr>\n    <tr>\n      <th>6</th>\n      <td>Honda</td>\n      <td>Blue</td>\n      <td>45698</td>\n      <td>4</td>\n      <td>$7,500.00</td>\n    </tr>\n    <tr>\n      <th>7</th>\n      <td>Honda</td>\n      <td>Blue</td>\n      <td>54738</td>\n      <td>4</td>\n      <td>$7,000.00</td>\n    </tr>\n    <tr>\n      <th>8</th>\n      <td>Toyota</td>\n      <td>White</td>\n      <td>60000</td>\n      <td>4</td>\n      <td>$6,250.00</td>\n    </tr>\n    <tr>\n      <th>9</th>\n      <td>Nissan</td>\n      <td>White</td>\n      <td>31600</td>\n      <td>4</td>\n      <td>$9,700.00</td>\n    </tr>\n  </tbody>\n</table>\n</div>"
     },
     "execution_count": 5,
     "metadata": {},
     "output_type": "execute_result"
    }
   ],
   "source": [
    "car_sales_tracker_df = pd.read_csv(\"data/car_sales_tracker.csv\")\n",
    "car_sales_tracker_df"
   ],
   "metadata": {
    "collapsed": false,
    "ExecuteTime": {
     "end_time": "2024-01-27T01:15:15.977251400Z",
     "start_time": "2024-01-27T01:15:15.960235700Z"
    }
   },
   "id": "a6cc6807568a469e",
   "execution_count": 5
  },
  {
   "cell_type": "markdown",
   "source": [
    "### Export data to CSV file\n",
    "\n",
    "The most common parameters for the to_csv() method are:\n",
    "- File path - save location set as a string\n",
    "- Index - whether to write row names (index)\n",
    "    - Default is True and will write the row names as the first column\n",
    "\n",
    "Other parameters can include: columns to include, separator, date format, etc."
   ],
   "metadata": {
    "collapsed": false
   },
   "id": "ad1dd01880025a73"
  },
  {
   "cell_type": "code",
   "outputs": [],
   "source": [
    "car_sales_tracker_df.to_csv(\"data/exported_car_sales_tracker.csv\", index=False)\n",
    "# can export to excel with .to_excel()"
   ],
   "metadata": {
    "collapsed": false,
    "ExecuteTime": {
     "end_time": "2024-01-27T01:15:16.003274900Z",
     "start_time": "2024-01-27T01:15:15.977251400Z"
    }
   },
   "id": "9ae4fbb1de6e5b26",
   "execution_count": 6
  },
  {
   "cell_type": "markdown",
   "source": [
    "## Describing data\n",
    "\n",
    "Here we will be using the dtypes attribute.\n",
    "An attribute is metadata about the object, and it is accessed using a dot (.) followed by the attribute name.\n",
    "The difference between an attribute and a function is that a function is an action that can be performed on the object and is accessed using a dot (.) followed by the function name and parentheses ().\n",
    "```\n",
    "#Function (or method)\n",
    "car_sales_tracker_df.to_csv()\n",
    "\n",
    "#Attribute\n",
    "car_sales_tracker_df.dtypes\n",
    "```"
   ],
   "metadata": {
    "collapsed": false
   },
   "id": "1ad5348c82964f9f"
  },
  {
   "cell_type": "code",
   "outputs": [
    {
     "data": {
      "text/plain": "Make             object\nColour           object\nOdometer (KM)     int64\nDoors             int64\nPrice            object\ndtype: object"
     },
     "execution_count": 7,
     "metadata": {},
     "output_type": "execute_result"
    }
   ],
   "source": [
    "car_sales_tracker_df.dtypes"
   ],
   "metadata": {
    "collapsed": false,
    "ExecuteTime": {
     "end_time": "2024-01-27T01:15:16.044311900Z",
     "start_time": "2024-01-27T01:15:15.990262800Z"
    }
   },
   "id": "6a74ceb3c4c763f5",
   "execution_count": 7
  },
  {
   "cell_type": "markdown",
   "source": [
    "### Columns and Index\n",
    "\n",
    "The columns attribute will return the column names of the DataFrame, while the index attribute will return the index (range of rows) beginning with 0.\n",
    "The example below will store the columns names as a list in the variable car_attributes_columns."
   ],
   "metadata": {
    "collapsed": false
   },
   "id": "5a4c278f01362c9c"
  },
  {
   "cell_type": "code",
   "outputs": [
    {
     "data": {
      "text/plain": "Index(['Make', 'Colour', 'Odometer (KM)', 'Doors', 'Price'], dtype='object')"
     },
     "execution_count": 8,
     "metadata": {},
     "output_type": "execute_result"
    }
   ],
   "source": [
    "car_attributes_columns = car_sales_tracker_df.columns\n",
    "car_attributes_columns"
   ],
   "metadata": {
    "collapsed": false,
    "ExecuteTime": {
     "end_time": "2024-01-27T01:15:16.097361500Z",
     "start_time": "2024-01-27T01:15:16.007278400Z"
    }
   },
   "id": "afb5c4203a5b9604",
   "execution_count": 8
  },
  {
   "cell_type": "code",
   "outputs": [
    {
     "data": {
      "text/plain": "RangeIndex(start=0, stop=10, step=1)"
     },
     "execution_count": 9,
     "metadata": {},
     "output_type": "execute_result"
    }
   ],
   "source": [
    "car_sales_tracker_df.index"
   ],
   "metadata": {
    "collapsed": false,
    "ExecuteTime": {
     "end_time": "2024-01-27T01:15:16.117379800Z",
     "start_time": "2024-01-27T01:15:16.023293800Z"
    }
   },
   "id": "1772c3e0f2cbb9cd",
   "execution_count": 9
  },
  {
   "cell_type": "markdown",
   "source": [
    "### describe() Function\n",
    "\n",
    "The describe() function will return a statistical summary of the DataFrame.\n",
    "The example below will return various statistical values, but only for the Odometer and Doors columns.\n",
    "If you view the dtypes attribute, you will see that the Odometer and Doors columns are the only columns with numeric values. The rest are objects."
   ],
   "metadata": {
    "collapsed": false
   },
   "id": "4fedbc107ba91763"
  },
  {
   "cell_type": "code",
   "outputs": [
    {
     "data": {
      "text/plain": "       Odometer (KM)      Doors\ncount      10.000000  10.000000\nmean    78601.400000   4.000000\nstd     61983.471735   0.471405\nmin     11179.000000   3.000000\n25%     35836.250000   4.000000\n50%     57369.000000   4.000000\n75%     96384.500000   4.000000\nmax    213095.000000   5.000000",
      "text/html": "<div>\n<style scoped>\n    .dataframe tbody tr th:only-of-type {\n        vertical-align: middle;\n    }\n\n    .dataframe tbody tr th {\n        vertical-align: top;\n    }\n\n    .dataframe thead th {\n        text-align: right;\n    }\n</style>\n<table border=\"1\" class=\"dataframe\">\n  <thead>\n    <tr style=\"text-align: right;\">\n      <th></th>\n      <th>Odometer (KM)</th>\n      <th>Doors</th>\n    </tr>\n  </thead>\n  <tbody>\n    <tr>\n      <th>count</th>\n      <td>10.000000</td>\n      <td>10.000000</td>\n    </tr>\n    <tr>\n      <th>mean</th>\n      <td>78601.400000</td>\n      <td>4.000000</td>\n    </tr>\n    <tr>\n      <th>std</th>\n      <td>61983.471735</td>\n      <td>0.471405</td>\n    </tr>\n    <tr>\n      <th>min</th>\n      <td>11179.000000</td>\n      <td>3.000000</td>\n    </tr>\n    <tr>\n      <th>25%</th>\n      <td>35836.250000</td>\n      <td>4.000000</td>\n    </tr>\n    <tr>\n      <th>50%</th>\n      <td>57369.000000</td>\n      <td>4.000000</td>\n    </tr>\n    <tr>\n      <th>75%</th>\n      <td>96384.500000</td>\n      <td>4.000000</td>\n    </tr>\n    <tr>\n      <th>max</th>\n      <td>213095.000000</td>\n      <td>5.000000</td>\n    </tr>\n  </tbody>\n</table>\n</div>"
     },
     "execution_count": 10,
     "metadata": {},
     "output_type": "execute_result"
    }
   ],
   "source": [
    "car_sales_tracker_df.describe()"
   ],
   "metadata": {
    "collapsed": false,
    "ExecuteTime": {
     "end_time": "2024-01-27T01:15:16.134393800Z",
     "start_time": "2024-01-27T01:15:16.039307600Z"
    }
   },
   "id": "c4181e3573f760a",
   "execution_count": 10
  },
  {
   "cell_type": "markdown",
   "source": [
    "### info() Function\n",
    "\n",
    "The info() function will return a concise summary of the DataFrame. It will return the index, column names, non-null values, and data types.\n",
    "It is essentially a combination of the dtypes, columns, and index attributes."
   ],
   "metadata": {
    "collapsed": false
   },
   "id": "afd8f6051abbb6ef"
  },
  {
   "cell_type": "code",
   "outputs": [
    {
     "name": "stdout",
     "output_type": "stream",
     "text": [
      "<class 'pandas.core.frame.DataFrame'>\n",
      "RangeIndex: 10 entries, 0 to 9\n",
      "Data columns (total 5 columns):\n",
      " #   Column         Non-Null Count  Dtype \n",
      "---  ------         --------------  ----- \n",
      " 0   Make           10 non-null     object\n",
      " 1   Colour         10 non-null     object\n",
      " 2   Odometer (KM)  10 non-null     int64 \n",
      " 3   Doors          10 non-null     int64 \n",
      " 4   Price          10 non-null     object\n",
      "dtypes: int64(2), object(3)\n",
      "memory usage: 528.0+ bytes\n"
     ]
    }
   ],
   "source": [
    "car_sales_tracker_df.info()"
   ],
   "metadata": {
    "collapsed": false,
    "ExecuteTime": {
     "end_time": "2024-01-27T01:15:16.134393800Z",
     "start_time": "2024-01-27T01:15:16.055322900Z"
    }
   },
   "id": "10a03839ffb414f8",
   "execution_count": 11
  },
  {
   "cell_type": "markdown",
   "source": [
    "### mean() Function\n",
    "\n",
    "The mean() function will return the mean of the numeric values in the DataFrame.\n",
    "If you receive an error, please add the parameter `numeric_only=True`."
   ],
   "metadata": {
    "collapsed": false
   },
   "id": "f2bc3e5d3e50f0fa"
  },
  {
   "cell_type": "code",
   "outputs": [
    {
     "data": {
      "text/plain": "Odometer (KM)    78601.4\nDoors                4.0\ndtype: float64"
     },
     "execution_count": 16,
     "metadata": {},
     "output_type": "execute_result"
    }
   ],
   "source": [
    "car_sales_tracker_df.mean(numeric_only=True)"
   ],
   "metadata": {
    "collapsed": false,
    "ExecuteTime": {
     "end_time": "2024-01-27T01:21:44.158489900Z",
     "start_time": "2024-01-27T01:21:44.149482400Z"
    }
   },
   "id": "d17e215828a9b464",
   "execution_count": 16
  },
  {
   "cell_type": "markdown",
   "source": [
    "### sum() Function\n",
    "\n",
    "The sum() function will return the sum of the numeric values in the DataFrame.\n",
    "Additionally, you can return the sum for only one column by specifying the column name. Example `car_sales_tracker_df[\"Odometer (KM)\"].sum()`."
   ],
   "metadata": {
    "collapsed": false
   },
   "id": "1613a0ea2c282c33"
  },
  {
   "cell_type": "code",
   "outputs": [
    {
     "data": {
      "text/plain": "Make             ToyotaHondaToyotaBMWNissanToyotaHondaHondaToyo...\nColour               WhiteRedBlueBlackWhiteGreenBlueBlueWhiteWhite\nOdometer (KM)                                               786014\nDoors                                                           40\nPrice            $4,000.00$5,000.00$7,000.00$22,000.00$3,500.00...\ndtype: object"
     },
     "execution_count": 19,
     "metadata": {},
     "output_type": "execute_result"
    }
   ],
   "source": [
    "car_sales_tracker_df.sum()"
   ],
   "metadata": {
    "collapsed": false,
    "ExecuteTime": {
     "end_time": "2024-01-27T01:27:43.537904700Z",
     "start_time": "2024-01-27T01:27:43.525893400Z"
    }
   },
   "id": "54924a4e8a870648",
   "execution_count": 19
  },
  {
   "cell_type": "code",
   "outputs": [
    {
     "data": {
      "text/plain": "786014"
     },
     "execution_count": 20,
     "metadata": {},
     "output_type": "execute_result"
    }
   ],
   "source": [
    "car_sales_tracker_df[\"Odometer (KM)\"].sum()"
   ],
   "metadata": {
    "collapsed": false,
    "ExecuteTime": {
     "end_time": "2024-01-27T01:27:49.104209400Z",
     "start_time": "2024-01-27T01:27:49.092199Z"
    }
   },
   "id": "142cabfa348273b5",
   "execution_count": 20
  },
  {
   "cell_type": "markdown",
   "source": [
    "## Viewing and Selecting Data"
   ],
   "metadata": {
    "collapsed": false
   },
   "id": "c57900594442bae"
  },
  {
   "cell_type": "markdown",
   "source": [
    "### head() Function and tail() Function\n",
    "\n",
    "The head() function will return the first 5 rows of the DataFrame, while the tail() function will return the last 5 rows of the DataFrame.\n",
    "As a parameter, you can specify the number of rows to return."
   ],
   "metadata": {
    "collapsed": false
   },
   "id": "d55a49874450d810"
  },
  {
   "cell_type": "code",
   "outputs": [
    {
     "data": {
      "text/plain": "     Make Colour  Odometer (KM)  Doors       Price\n0  Toyota  White         150043      4   $4,000.00\n1   Honda    Red          87899      4   $5,000.00\n2  Toyota   Blue          32549      3   $7,000.00\n3     BMW  Black          11179      5  $22,000.00\n4  Nissan  White         213095      4   $3,500.00",
      "text/html": "<div>\n<style scoped>\n    .dataframe tbody tr th:only-of-type {\n        vertical-align: middle;\n    }\n\n    .dataframe tbody tr th {\n        vertical-align: top;\n    }\n\n    .dataframe thead th {\n        text-align: right;\n    }\n</style>\n<table border=\"1\" class=\"dataframe\">\n  <thead>\n    <tr style=\"text-align: right;\">\n      <th></th>\n      <th>Make</th>\n      <th>Colour</th>\n      <th>Odometer (KM)</th>\n      <th>Doors</th>\n      <th>Price</th>\n    </tr>\n  </thead>\n  <tbody>\n    <tr>\n      <th>0</th>\n      <td>Toyota</td>\n      <td>White</td>\n      <td>150043</td>\n      <td>4</td>\n      <td>$4,000.00</td>\n    </tr>\n    <tr>\n      <th>1</th>\n      <td>Honda</td>\n      <td>Red</td>\n      <td>87899</td>\n      <td>4</td>\n      <td>$5,000.00</td>\n    </tr>\n    <tr>\n      <th>2</th>\n      <td>Toyota</td>\n      <td>Blue</td>\n      <td>32549</td>\n      <td>3</td>\n      <td>$7,000.00</td>\n    </tr>\n    <tr>\n      <th>3</th>\n      <td>BMW</td>\n      <td>Black</td>\n      <td>11179</td>\n      <td>5</td>\n      <td>$22,000.00</td>\n    </tr>\n    <tr>\n      <th>4</th>\n      <td>Nissan</td>\n      <td>White</td>\n      <td>213095</td>\n      <td>4</td>\n      <td>$3,500.00</td>\n    </tr>\n  </tbody>\n</table>\n</div>"
     },
     "execution_count": 21,
     "metadata": {},
     "output_type": "execute_result"
    }
   ],
   "source": [
    "car_sales_tracker_df.head()"
   ],
   "metadata": {
    "collapsed": false,
    "ExecuteTime": {
     "end_time": "2024-01-27T01:45:05.811783500Z",
     "start_time": "2024-01-27T01:45:05.786760500Z"
    }
   },
   "id": "f3e46ad1c062169f",
   "execution_count": 21
  },
  {
   "cell_type": "markdown",
   "source": [
    "### loc() Function and iloc() Function\n",
    "\n",
    "The loc() function will return the row(s) with the specified index label(s), while the iloc() function will return the row(s) with the specified index position(s)."
   ],
   "metadata": {
    "collapsed": false
   },
   "id": "f94ea5971043e442"
  },
  {
   "cell_type": "code",
   "outputs": [
    {
     "data": {
      "text/plain": "3    Banana\n3     Grape\ndtype: object"
     },
     "execution_count": 25,
     "metadata": {},
     "output_type": "execute_result"
    }
   ],
   "source": [
    "fruits = pd.Series([\"Apple\", \"Banana\", \"Orange\", \"Grape\", \"Mango\"], index=[0, 3, 8, 3, 2])\n",
    "fruits.loc[3] # returns rows with index label 3, Banana and Grape"
   ],
   "metadata": {
    "collapsed": false,
    "ExecuteTime": {
     "end_time": "2024-01-27T01:51:06.985523500Z",
     "start_time": "2024-01-27T01:51:06.970509700Z"
    }
   },
   "id": "4484216b1cd85011",
   "execution_count": 25
  },
  {
   "cell_type": "code",
   "outputs": [
    {
     "data": {
      "text/plain": "'Grape'"
     },
     "execution_count": 26,
     "metadata": {},
     "output_type": "execute_result"
    }
   ],
   "source": [
    "fruits.iloc[3] # returns row with index position 3, Grape"
   ],
   "metadata": {
    "collapsed": false,
    "ExecuteTime": {
     "end_time": "2024-01-27T01:51:14.041143700Z",
     "start_time": "2024-01-27T01:51:14.021125600Z"
    }
   },
   "id": "dd529d9a0174224b",
   "execution_count": 26
  },
  {
   "cell_type": "code",
   "outputs": [
    {
     "data": {
      "text/plain": "0     Apple\n3    Banana\n8    Orange\ndtype: object"
     },
     "execution_count": 28,
     "metadata": {},
     "output_type": "execute_result"
    }
   ],
   "source": [
    "fruits.iloc[:3] # returns rows with index positions 0, 1, and 2, Apple, Banana, and Orange"
   ],
   "metadata": {
    "collapsed": false,
    "ExecuteTime": {
     "end_time": "2024-01-27T01:55:13.311333200Z",
     "start_time": "2024-01-27T01:55:13.297320700Z"
    }
   },
   "id": "1826678e0f505fc2",
   "execution_count": 28
  },
  {
   "cell_type": "markdown",
   "source": [
    "### Column Selection\n",
    "\n",
    "Previously, it was mentioned that you can access a column using brackets like so: `car_sales_tracker_df[\"Odometer (KM)\"]`.\n",
    "However, you can do the same with dot notation as shown below, but keep in mind that this will not work if the column name has a space in it."
   ],
   "metadata": {
    "collapsed": false
   },
   "id": "41789d0d846b53f9"
  },
  {
   "cell_type": "code",
   "outputs": [
    {
     "data": {
      "text/plain": "0     $4,000.00\n1     $5,000.00\n2     $7,000.00\n3    $22,000.00\n4     $3,500.00\n5     $4,500.00\n6     $7,500.00\n7     $7,000.00\n8     $6,250.00\n9     $9,700.00\nName: Price, dtype: object"
     },
     "execution_count": 37,
     "metadata": {},
     "output_type": "execute_result"
    }
   ],
   "source": [
    "car_sales_tracker_df.Price"
   ],
   "metadata": {
    "collapsed": false,
    "ExecuteTime": {
     "end_time": "2024-01-27T01:58:27.987094500Z",
     "start_time": "2024-01-27T01:58:27.976083200Z"
    }
   },
   "id": "710d2f561484302d",
   "execution_count": 37
  },
  {
   "cell_type": "markdown",
   "source": [
    "### Boolean Indexing\n",
    "\n",
    "Boolean indexing is a way to filter data based on a condition.\n",
    "The below example will return all rows where the Make column is equal to Honda.\n",
    "The second example will return all rows where the Make column is equal to Toyota and the Odometer column is greater than or equal to 75000.\n",
    "- When adding a condition, you first need to type the DataFrame name, then the DataFrame name a second time followed by the column name and condition. The repetition of the DataFrame name is necessary to define the scope of each condition accurately - the first instance selects the DataFrame to apply the filter to, and the second instances within the conditions specify which columns of that DataFrame are being used for the filtering criteria.\n",
    "- If you remove the first instance of the DataFrame name in a boolean indexing expression, it will return either true or false for each row in the Dataframe that meets the condition."
   ],
   "metadata": {
    "collapsed": false
   },
   "id": "f2338e594c220ae4"
  },
  {
   "cell_type": "code",
   "outputs": [
    {
     "data": {
      "text/plain": "    Make Colour  Odometer (KM)  Doors      Price\n1  Honda    Red          87899      4  $5,000.00\n6  Honda   Blue          45698      4  $7,500.00\n7  Honda   Blue          54738      4  $7,000.00",
      "text/html": "<div>\n<style scoped>\n    .dataframe tbody tr th:only-of-type {\n        vertical-align: middle;\n    }\n\n    .dataframe tbody tr th {\n        vertical-align: top;\n    }\n\n    .dataframe thead th {\n        text-align: right;\n    }\n</style>\n<table border=\"1\" class=\"dataframe\">\n  <thead>\n    <tr style=\"text-align: right;\">\n      <th></th>\n      <th>Make</th>\n      <th>Colour</th>\n      <th>Odometer (KM)</th>\n      <th>Doors</th>\n      <th>Price</th>\n    </tr>\n  </thead>\n  <tbody>\n    <tr>\n      <th>1</th>\n      <td>Honda</td>\n      <td>Red</td>\n      <td>87899</td>\n      <td>4</td>\n      <td>$5,000.00</td>\n    </tr>\n    <tr>\n      <th>6</th>\n      <td>Honda</td>\n      <td>Blue</td>\n      <td>45698</td>\n      <td>4</td>\n      <td>$7,500.00</td>\n    </tr>\n    <tr>\n      <th>7</th>\n      <td>Honda</td>\n      <td>Blue</td>\n      <td>54738</td>\n      <td>4</td>\n      <td>$7,000.00</td>\n    </tr>\n  </tbody>\n</table>\n</div>"
     },
     "execution_count": 39,
     "metadata": {},
     "output_type": "execute_result"
    }
   ],
   "source": [
    "car_sales_tracker_df[car_sales_tracker_df[\"Make\"] == \"Honda\"]"
   ],
   "metadata": {
    "collapsed": false,
    "ExecuteTime": {
     "end_time": "2024-01-27T02:01:05.212527900Z",
     "start_time": "2024-01-27T02:01:05.205521300Z"
    }
   },
   "id": "134accd199b20d71",
   "execution_count": 39
  },
  {
   "cell_type": "code",
   "outputs": [
    {
     "data": {
      "text/plain": "     Make Colour  Odometer (KM)  Doors      Price\n0  Toyota  White         150043      4  $4,000.00\n5  Toyota  Green          99213      4  $4,500.00",
      "text/html": "<div>\n<style scoped>\n    .dataframe tbody tr th:only-of-type {\n        vertical-align: middle;\n    }\n\n    .dataframe tbody tr th {\n        vertical-align: top;\n    }\n\n    .dataframe thead th {\n        text-align: right;\n    }\n</style>\n<table border=\"1\" class=\"dataframe\">\n  <thead>\n    <tr style=\"text-align: right;\">\n      <th></th>\n      <th>Make</th>\n      <th>Colour</th>\n      <th>Odometer (KM)</th>\n      <th>Doors</th>\n      <th>Price</th>\n    </tr>\n  </thead>\n  <tbody>\n    <tr>\n      <th>0</th>\n      <td>Toyota</td>\n      <td>White</td>\n      <td>150043</td>\n      <td>4</td>\n      <td>$4,000.00</td>\n    </tr>\n    <tr>\n      <th>5</th>\n      <td>Toyota</td>\n      <td>Green</td>\n      <td>99213</td>\n      <td>4</td>\n      <td>$4,500.00</td>\n    </tr>\n  </tbody>\n</table>\n</div>"
     },
     "execution_count": 61,
     "metadata": {},
     "output_type": "execute_result"
    }
   ],
   "source": [
    "car_sales_tracker_df[(car_sales_tracker_df[\"Make\"] == \"Toyota\") & (car_sales_tracker_df[\"Odometer (KM)\"] >= 75000)]"
   ],
   "metadata": {
    "collapsed": false,
    "ExecuteTime": {
     "end_time": "2024-01-27T02:18:35.109384900Z",
     "start_time": "2024-01-27T02:18:35.100376400Z"
    }
   },
   "id": "eada83a3d5dfc1cb",
   "execution_count": 61
  },
  {
   "cell_type": "code",
   "outputs": [
    {
     "data": {
      "text/plain": "0    False\n1     True\n2    False\n3    False\n4    False\n5    False\n6     True\n7     True\n8    False\n9    False\nName: Make, dtype: bool"
     },
     "execution_count": 64,
     "metadata": {},
     "output_type": "execute_result"
    }
   ],
   "source": [
    "car_sales_tracker_df[\"Make\"] == \"Honda\""
   ],
   "metadata": {
    "collapsed": false,
    "ExecuteTime": {
     "end_time": "2024-01-27T02:27:23.950122400Z",
     "start_time": "2024-01-27T02:27:23.938111100Z"
    }
   },
   "id": "4424553ea3b24e39",
   "execution_count": 64
  },
  {
   "cell_type": "markdown",
   "source": [
    "### crosstab() Function\n",
    "\n",
    "The crosstab() function will return a cross-tabulation of two or more factors.\n",
    "What this means is that it will return a table of the frequency distribution of the factors.\n",
    "The example below will return how many cars of each make were sold at each price."
   ],
   "metadata": {
    "collapsed": false
   },
   "id": "20dccbe780c3e0f6"
  },
  {
   "cell_type": "code",
   "outputs": [
    {
     "data": {
      "text/plain": "Price   $22,000.00  $3,500.00  $4,000.00  $4,500.00  $5,000.00  $6,250.00  \\\nMake                                                                        \nBMW              1          0          0          0          0          0   \nHonda            0          0          0          0          1          0   \nNissan           0          1          0          0          0          0   \nToyota           0          0          1          1          0          1   \n\nPrice   $7,000.00  $7,500.00  $9,700.00  \nMake                                     \nBMW             0          0          0  \nHonda           1          1          0  \nNissan          0          0          1  \nToyota          1          0          0  ",
      "text/html": "<div>\n<style scoped>\n    .dataframe tbody tr th:only-of-type {\n        vertical-align: middle;\n    }\n\n    .dataframe tbody tr th {\n        vertical-align: top;\n    }\n\n    .dataframe thead th {\n        text-align: right;\n    }\n</style>\n<table border=\"1\" class=\"dataframe\">\n  <thead>\n    <tr style=\"text-align: right;\">\n      <th>Price</th>\n      <th>$22,000.00</th>\n      <th>$3,500.00</th>\n      <th>$4,000.00</th>\n      <th>$4,500.00</th>\n      <th>$5,000.00</th>\n      <th>$6,250.00</th>\n      <th>$7,000.00</th>\n      <th>$7,500.00</th>\n      <th>$9,700.00</th>\n    </tr>\n    <tr>\n      <th>Make</th>\n      <th></th>\n      <th></th>\n      <th></th>\n      <th></th>\n      <th></th>\n      <th></th>\n      <th></th>\n      <th></th>\n      <th></th>\n    </tr>\n  </thead>\n  <tbody>\n    <tr>\n      <th>BMW</th>\n      <td>1</td>\n      <td>0</td>\n      <td>0</td>\n      <td>0</td>\n      <td>0</td>\n      <td>0</td>\n      <td>0</td>\n      <td>0</td>\n      <td>0</td>\n    </tr>\n    <tr>\n      <th>Honda</th>\n      <td>0</td>\n      <td>0</td>\n      <td>0</td>\n      <td>0</td>\n      <td>1</td>\n      <td>0</td>\n      <td>1</td>\n      <td>1</td>\n      <td>0</td>\n    </tr>\n    <tr>\n      <th>Nissan</th>\n      <td>0</td>\n      <td>1</td>\n      <td>0</td>\n      <td>0</td>\n      <td>0</td>\n      <td>0</td>\n      <td>0</td>\n      <td>0</td>\n      <td>1</td>\n    </tr>\n    <tr>\n      <th>Toyota</th>\n      <td>0</td>\n      <td>0</td>\n      <td>1</td>\n      <td>1</td>\n      <td>0</td>\n      <td>1</td>\n      <td>1</td>\n      <td>0</td>\n      <td>0</td>\n    </tr>\n  </tbody>\n</table>\n</div>"
     },
     "execution_count": 65,
     "metadata": {},
     "output_type": "execute_result"
    }
   ],
   "source": [
    "pd.crosstab(car_sales_tracker_df[\"Make\"], car_sales_tracker_df[\"Price\"])"
   ],
   "metadata": {
    "collapsed": false,
    "ExecuteTime": {
     "end_time": "2024-01-27T02:33:28.127013300Z",
     "start_time": "2024-01-27T02:33:28.102990500Z"
    }
   },
   "id": "c0494f436e90cccc",
   "execution_count": 65
  },
  {
   "cell_type": "markdown",
   "source": [
    "### groupby() Function\n",
    "\n",
    "The groupby() function in Pandas groups data into subsets according to the values of specified columns, enabling aggregation, transformation, and analysis operations on each group independently\n",
    "The example below will group the DataFrame by the Make column and return the mean of the numeric values for each Make."
   ],
   "metadata": {
    "collapsed": false
   },
   "id": "a7ae44e718029350"
  },
  {
   "cell_type": "code",
   "outputs": [
    {
     "data": {
      "text/plain": "        Odometer (KM)  Doors\nMake                        \nBMW      11179.000000   5.00\nHonda    62778.333333   4.00\nNissan  122347.500000   4.00\nToyota   85451.250000   3.75",
      "text/html": "<div>\n<style scoped>\n    .dataframe tbody tr th:only-of-type {\n        vertical-align: middle;\n    }\n\n    .dataframe tbody tr th {\n        vertical-align: top;\n    }\n\n    .dataframe thead th {\n        text-align: right;\n    }\n</style>\n<table border=\"1\" class=\"dataframe\">\n  <thead>\n    <tr style=\"text-align: right;\">\n      <th></th>\n      <th>Odometer (KM)</th>\n      <th>Doors</th>\n    </tr>\n    <tr>\n      <th>Make</th>\n      <th></th>\n      <th></th>\n    </tr>\n  </thead>\n  <tbody>\n    <tr>\n      <th>BMW</th>\n      <td>11179.000000</td>\n      <td>5.00</td>\n    </tr>\n    <tr>\n      <th>Honda</th>\n      <td>62778.333333</td>\n      <td>4.00</td>\n    </tr>\n    <tr>\n      <th>Nissan</th>\n      <td>122347.500000</td>\n      <td>4.00</td>\n    </tr>\n    <tr>\n      <th>Toyota</th>\n      <td>85451.250000</td>\n      <td>3.75</td>\n    </tr>\n  </tbody>\n</table>\n</div>"
     },
     "execution_count": 68,
     "metadata": {},
     "output_type": "execute_result"
    }
   ],
   "source": [
    "car_sales_tracker_df.groupby([\"Make\"]).mean(numeric_only=True)"
   ],
   "metadata": {
    "collapsed": false,
    "ExecuteTime": {
     "end_time": "2024-01-27T02:38:08.789493400Z",
     "start_time": "2024-01-27T02:38:08.777483600Z"
    }
   },
   "id": "6a25fe79688552ba",
   "execution_count": 68
  },
  {
   "cell_type": "markdown",
   "source": [],
   "metadata": {
    "collapsed": false
   },
   "id": "92c599e2615f3158"
  }
 ],
 "metadata": {
  "kernelspec": {
   "display_name": "Python 3",
   "language": "python",
   "name": "python3"
  },
  "language_info": {
   "codemirror_mode": {
    "name": "ipython",
    "version": 2
   },
   "file_extension": ".py",
   "mimetype": "text/x-python",
   "name": "python",
   "nbconvert_exporter": "python",
   "pygments_lexer": "ipython2",
   "version": "2.7.6"
  }
 },
 "nbformat": 4,
 "nbformat_minor": 5
}
