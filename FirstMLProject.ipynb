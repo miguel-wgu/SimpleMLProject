{
 "cells": [
  {
   "cell_type": "markdown",
   "source": [
    "# Intro to Pandas"
   ],
   "metadata": {
    "collapsed": false
   },
   "id": "9527773d71be1"
  },
  {
   "cell_type": "code",
   "outputs": [],
   "source": [
    "import pandas as pd"
   ],
   "metadata": {
    "collapsed": false,
    "ExecuteTime": {
     "end_time": "2024-01-26T07:08:32.724761600Z",
     "start_time": "2024-01-26T07:08:32.336414600Z"
    }
   },
   "id": "66fe6d6aa5c4bd2e",
   "execution_count": 1
  },
  {
   "cell_type": "markdown",
   "source": [
    "## Series\n",
    "\n",
    "A series is a 1-dimensional array that can hold any data type such as integers, floats and strings.\n",
    "It is similar to a column in a spreadsheet or a SQL table.\n",
    "The example below contains three examples of series, but we will be running a series with a list of cars."
   ],
   "metadata": {
    "collapsed": false
   },
   "id": "9d530a415282e65b"
  },
  {
   "cell_type": "code",
   "outputs": [
    {
     "data": {
      "text/plain": "0       BMW\n1    Toyota\n2     Honda\ndtype: object"
     },
     "execution_count": 2,
     "metadata": {},
     "output_type": "execute_result"
    }
   ],
   "source": [
    "cars = pd.Series([\"BMW\", \"Toyota\", \"Honda\"]) # List\n",
    "# series = pd.Series({'a': 'BMW', 'b': 'Toyota', 'c': 'Honda'}) # Dictionary\n",
    "# series = pd.Series(5, index=[0, 1, 2, 3, 4, 5]) # Scalar\n",
    "cars"
   ],
   "metadata": {
    "collapsed": false,
    "ExecuteTime": {
     "end_time": "2024-01-26T07:08:32.740776Z",
     "start_time": "2024-01-26T07:08:32.726763300Z"
    }
   },
   "id": "e7a76394b523bbb1",
   "execution_count": 2
  },
  {
   "cell_type": "code",
   "outputs": [
    {
     "data": {
      "text/plain": "0      Red\n1     Blue\n2    White\ndtype: object"
     },
     "execution_count": 3,
     "metadata": {},
     "output_type": "execute_result"
    }
   ],
   "source": [
    "colors = pd.Series([\"Red\", \"Blue\", \"White\"])\n",
    "colors"
   ],
   "metadata": {
    "collapsed": false,
    "ExecuteTime": {
     "end_time": "2024-01-26T07:08:32.768801Z",
     "start_time": "2024-01-26T07:08:32.741776800Z"
    }
   },
   "id": "39ef10e40e28d665",
   "execution_count": 3
  },
  {
   "cell_type": "markdown",
   "source": [
    "## DataFrames\n",
    "\n",
    "A DataFrame is a 2-dimensional array that can hold any data type similar to a series.\n",
    "It is size-mutable, meaning that columns can be inserted and deleted from the DataFrame.\n",
    "Can be heterogeneous, i.e. it can contain data of different types with a structure consisting of labels and axes.\n",
    "- Row (axis=0), Column (axis=1)\n",
    "\n",
    "Additionally, it can support missing data, which is marked as NaN."
   ],
   "metadata": {
    "collapsed": false
   },
   "id": "e60901261657eee6"
  },
  {
   "cell_type": "code",
   "outputs": [
    {
     "data": {
      "text/plain": "  Car make  Color\n0      BMW    Red\n1   Toyota   Blue\n2    Honda  White",
      "text/html": "<div>\n<style scoped>\n    .dataframe tbody tr th:only-of-type {\n        vertical-align: middle;\n    }\n\n    .dataframe tbody tr th {\n        vertical-align: top;\n    }\n\n    .dataframe thead th {\n        text-align: right;\n    }\n</style>\n<table border=\"1\" class=\"dataframe\">\n  <thead>\n    <tr style=\"text-align: right;\">\n      <th></th>\n      <th>Car make</th>\n      <th>Color</th>\n    </tr>\n  </thead>\n  <tbody>\n    <tr>\n      <th>0</th>\n      <td>BMW</td>\n      <td>Red</td>\n    </tr>\n    <tr>\n      <th>1</th>\n      <td>Toyota</td>\n      <td>Blue</td>\n    </tr>\n    <tr>\n      <th>2</th>\n      <td>Honda</td>\n      <td>White</td>\n    </tr>\n  </tbody>\n</table>\n</div>"
     },
     "execution_count": 4,
     "metadata": {},
     "output_type": "execute_result"
    }
   ],
   "source": [
    "car_data = pd.DataFrame({\"Car make\": cars, \"Color\": colors})\n",
    "car_data"
   ],
   "metadata": {
    "collapsed": false,
    "ExecuteTime": {
     "end_time": "2024-01-26T07:08:32.774806400Z",
     "start_time": "2024-01-26T07:08:32.758792Z"
    }
   },
   "id": "a41ea7bb39d4b5fb",
   "execution_count": 4
  },
  {
   "cell_type": "markdown",
   "source": [
    "### Import data from CSV file\n",
    "\n",
    "The example will import a CSV file containing car sales data.\n",
    "However, you can import data using a URL. Here is what that would look like:\n",
    "\n",
    "```\n",
    "car_sales_tracker_df = pd.read_csv(\"https://raw.githubusercontent.com/miguel-wgu/SimpleMLProject/main/data/car_sales_tracker.csv\")\n",
    "```\n",
    "The url must be a raw file from GitHub, and this one comes directly from my GitHub repo."
   ],
   "metadata": {
    "collapsed": false
   },
   "id": "68e23c4462dcca91"
  },
  {
   "cell_type": "code",
   "outputs": [
    {
     "data": {
      "text/plain": "     Make Colour  Odometer (KM)  Doors       Price\n0  Toyota  White         150043      4   $4,000.00\n1   Honda    Red          87899      4   $5,000.00\n2  Toyota   Blue          32549      3   $7,000.00\n3     BMW  Black          11179      5  $22,000.00\n4  Nissan  White         213095      4   $3,500.00\n5  Toyota  Green          99213      4   $4,500.00\n6   Honda   Blue          45698      4   $7,500.00\n7   Honda   Blue          54738      4   $7,000.00\n8  Toyota  White          60000      4   $6,250.00\n9  Nissan  White          31600      4   $9,700.00",
      "text/html": "<div>\n<style scoped>\n    .dataframe tbody tr th:only-of-type {\n        vertical-align: middle;\n    }\n\n    .dataframe tbody tr th {\n        vertical-align: top;\n    }\n\n    .dataframe thead th {\n        text-align: right;\n    }\n</style>\n<table border=\"1\" class=\"dataframe\">\n  <thead>\n    <tr style=\"text-align: right;\">\n      <th></th>\n      <th>Make</th>\n      <th>Colour</th>\n      <th>Odometer (KM)</th>\n      <th>Doors</th>\n      <th>Price</th>\n    </tr>\n  </thead>\n  <tbody>\n    <tr>\n      <th>0</th>\n      <td>Toyota</td>\n      <td>White</td>\n      <td>150043</td>\n      <td>4</td>\n      <td>$4,000.00</td>\n    </tr>\n    <tr>\n      <th>1</th>\n      <td>Honda</td>\n      <td>Red</td>\n      <td>87899</td>\n      <td>4</td>\n      <td>$5,000.00</td>\n    </tr>\n    <tr>\n      <th>2</th>\n      <td>Toyota</td>\n      <td>Blue</td>\n      <td>32549</td>\n      <td>3</td>\n      <td>$7,000.00</td>\n    </tr>\n    <tr>\n      <th>3</th>\n      <td>BMW</td>\n      <td>Black</td>\n      <td>11179</td>\n      <td>5</td>\n      <td>$22,000.00</td>\n    </tr>\n    <tr>\n      <th>4</th>\n      <td>Nissan</td>\n      <td>White</td>\n      <td>213095</td>\n      <td>4</td>\n      <td>$3,500.00</td>\n    </tr>\n    <tr>\n      <th>5</th>\n      <td>Toyota</td>\n      <td>Green</td>\n      <td>99213</td>\n      <td>4</td>\n      <td>$4,500.00</td>\n    </tr>\n    <tr>\n      <th>6</th>\n      <td>Honda</td>\n      <td>Blue</td>\n      <td>45698</td>\n      <td>4</td>\n      <td>$7,500.00</td>\n    </tr>\n    <tr>\n      <th>7</th>\n      <td>Honda</td>\n      <td>Blue</td>\n      <td>54738</td>\n      <td>4</td>\n      <td>$7,000.00</td>\n    </tr>\n    <tr>\n      <th>8</th>\n      <td>Toyota</td>\n      <td>White</td>\n      <td>60000</td>\n      <td>4</td>\n      <td>$6,250.00</td>\n    </tr>\n    <tr>\n      <th>9</th>\n      <td>Nissan</td>\n      <td>White</td>\n      <td>31600</td>\n      <td>4</td>\n      <td>$9,700.00</td>\n    </tr>\n  </tbody>\n</table>\n</div>"
     },
     "execution_count": 5,
     "metadata": {},
     "output_type": "execute_result"
    }
   ],
   "source": [
    "car_sales_tracker_df = pd.read_csv(\"data/car_sales_tracker.csv\")\n",
    "car_sales_tracker_df"
   ],
   "metadata": {
    "collapsed": false,
    "ExecuteTime": {
     "end_time": "2024-01-26T07:08:32.795825100Z",
     "start_time": "2024-01-26T07:08:32.774806400Z"
    }
   },
   "id": "a6cc6807568a469e",
   "execution_count": 5
  },
  {
   "cell_type": "markdown",
   "source": [
    "### Export data to CSV file\n",
    "\n",
    "The most common parameters for the to_csv() method are:\n",
    "- File path - save location set as a string\n",
    "- Index - whether to write row names (index)\n",
    "    - Default is True and will write the row names as the first column\n",
    "\n",
    "Other parameters can include: columns to include, separator, date format, etc."
   ],
   "metadata": {
    "collapsed": false
   },
   "id": "ad1dd01880025a73"
  },
  {
   "cell_type": "code",
   "outputs": [],
   "source": [
    "car_sales_tracker_df.to_csv(\"data/exported_car_sales_tracker.csv\", index=False)\n",
    "# can export to excel with .to_excel()"
   ],
   "metadata": {
    "collapsed": false,
    "ExecuteTime": {
     "end_time": "2024-01-26T07:08:32.859882600Z",
     "start_time": "2024-01-26T07:08:32.790820600Z"
    }
   },
   "id": "9ae4fbb1de6e5b26",
   "execution_count": 6
  },
  {
   "cell_type": "markdown",
   "source": [
    "## Describing data\n",
    "\n",
    "Here we will be using the dtypes attribute.\n",
    "An attribute is metadata about the object, and it is accessed using a dot (.) followed by the attribute name.\n",
    "The difference between an attribute and a function is that a function is an action that can be performed on the object and is accessed using a dot (.) followed by the function name and parentheses ().\n",
    "```\n",
    "#Function (or method)\n",
    "car_sales_tracker_df.to_csv()\n",
    "\n",
    "#Attribute\n",
    "car_sales_tracker_df.dtypes\n",
    "```"
   ],
   "metadata": {
    "collapsed": false
   },
   "id": "1ad5348c82964f9f"
  },
  {
   "cell_type": "code",
   "outputs": [],
   "source": [
    "car_sales_tracker_df.dtypes"
   ],
   "metadata": {
    "collapsed": false
   },
   "id": "6a74ceb3c4c763f5"
  }
 ],
 "metadata": {
  "kernelspec": {
   "display_name": "Python 3",
   "language": "python",
   "name": "python3"
  },
  "language_info": {
   "codemirror_mode": {
    "name": "ipython",
    "version": 2
   },
   "file_extension": ".py",
   "mimetype": "text/x-python",
   "name": "python",
   "nbconvert_exporter": "python",
   "pygments_lexer": "ipython2",
   "version": "2.7.6"
  }
 },
 "nbformat": 4,
 "nbformat_minor": 5
}
