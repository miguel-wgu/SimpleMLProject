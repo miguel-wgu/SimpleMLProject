{
 "cells": [
  {
   "cell_type": "markdown",
   "source": [
    "# Intro to NumPy"
   ],
   "metadata": {
    "collapsed": false
   },
   "id": "70b7e05cf9769e4b"
  },
  {
   "cell_type": "code",
   "execution_count": 1,
   "id": "initial_id",
   "metadata": {
    "collapsed": true,
    "ExecuteTime": {
     "end_time": "2024-02-17T03:49:07.760725200Z",
     "start_time": "2024-02-17T03:49:07.686658300Z"
    }
   },
   "outputs": [],
   "source": [
    "import numpy as np"
   ]
  },
  {
   "cell_type": "markdown",
   "source": [
    "## Datatypes and Attributes"
   ],
   "metadata": {
    "collapsed": false
   },
   "id": "e5ce00a1dfcce829"
  },
  {
   "cell_type": "markdown",
   "source": [
    "### NumPy array creation and basic attributes\n",
    "\n",
    "We use NumPy to create arrays. Arrays are similar to lists, but they can be multi-dimensional.\n",
    "NumPy arrays are faster and more efficient than lists."
   ],
   "metadata": {
    "collapsed": false
   },
   "id": "497d8895b808d33b"
  },
  {
   "cell_type": "code",
   "outputs": [
    {
     "data": {
      "text/plain": "array([1, 2, 3])"
     },
     "execution_count": 2,
     "metadata": {},
     "output_type": "execute_result"
    }
   ],
   "source": [
    "# Numpy's main datatype is ndarray - n-dimensional array\n",
    "a1 = np.array([1, 2, 3])\n",
    "a1"
   ],
   "metadata": {
    "collapsed": false,
    "ExecuteTime": {
     "end_time": "2024-02-17T03:55:19.114272100Z",
     "start_time": "2024-02-17T03:55:19.104263300Z"
    }
   },
   "id": "7177259c52d4014f",
   "execution_count": 2
  },
  {
   "cell_type": "code",
   "outputs": [],
   "source": [
    "a2 = np.array([[1, 2, 3],\n",
    "               [4, 5, 6.5]])\n",
    "\n",
    "a3 = np.array([[[1, 2, 3],  # 3D array - useful for images\n",
    "                [4, 5, 6],\n",
    "                [7, 8, 9]],\n",
    "               [[10, 11, 12],\n",
    "                [13, 14, 15],\n",
    "                [16, 17, 18]]])"
   ],
   "metadata": {
    "collapsed": false,
    "ExecuteTime": {
     "end_time": "2024-02-17T04:02:34.256728800Z",
     "start_time": "2024-02-17T04:02:34.247719500Z"
    }
   },
   "id": "8658195f7dc643f4",
   "execution_count": 9
  },
  {
   "cell_type": "code",
   "outputs": [
    {
     "data": {
      "text/plain": "array([[1, 2],\n       [3, 4]])"
     },
     "execution_count": 4,
     "metadata": {},
     "output_type": "execute_result"
    }
   ],
   "source": [
    "a2"
   ],
   "metadata": {
    "collapsed": false,
    "ExecuteTime": {
     "end_time": "2024-02-17T04:01:40.291711700Z",
     "start_time": "2024-02-17T04:01:40.284705400Z"
    }
   },
   "id": "d8ec0276795fdcab",
   "execution_count": 4
  },
  {
   "cell_type": "code",
   "outputs": [
    {
     "data": {
      "text/plain": "array([[[ 1,  2,  3],\n        [ 4,  5,  6],\n        [ 7,  8,  9]],\n\n       [[10, 11, 12],\n        [13, 14, 15],\n        [16, 17, 18]]])"
     },
     "execution_count": 10,
     "metadata": {},
     "output_type": "execute_result"
    }
   ],
   "source": [
    "a3"
   ],
   "metadata": {
    "collapsed": false,
    "ExecuteTime": {
     "end_time": "2024-02-17T04:02:36.932157800Z",
     "start_time": "2024-02-17T04:02:36.917144200Z"
    }
   },
   "id": "859a388ba4c26f90",
   "execution_count": 10
  },
  {
   "cell_type": "code",
   "outputs": [
    {
     "data": {
      "text/plain": "(3,)"
     },
     "execution_count": 14,
     "metadata": {},
     "output_type": "execute_result"
    }
   ],
   "source": [
    "a1.shape  # Displays (3,) - 1D array with 3 elements"
   ],
   "metadata": {
    "collapsed": false,
    "ExecuteTime": {
     "end_time": "2024-02-17T04:08:43.572437900Z",
     "start_time": "2024-02-17T04:08:43.551417900Z"
    }
   },
   "id": "f47100bf6b5469e6",
   "execution_count": 14
  },
  {
   "cell_type": "code",
   "outputs": [
    {
     "data": {
      "text/plain": "(2, 3)"
     },
     "execution_count": 15,
     "metadata": {},
     "output_type": "execute_result"
    }
   ],
   "source": [
    "a2.shape  # Displays (2, 3) - 2D array with 2 rows and 3 columns"
   ],
   "metadata": {
    "collapsed": false,
    "ExecuteTime": {
     "end_time": "2024-02-17T04:08:47.800278100Z",
     "start_time": "2024-02-17T04:08:47.781261200Z"
    }
   },
   "id": "4db28e0cf70f7ad4",
   "execution_count": 15
  },
  {
   "cell_type": "code",
   "outputs": [
    {
     "data": {
      "text/plain": "(2, 3, 3)"
     },
     "execution_count": 16,
     "metadata": {},
     "output_type": "execute_result"
    }
   ],
   "source": [
    "a3.shape  # Displays (2, 3, 3) - 3D array with 2 layers, 3 rows and 3 columns"
   ],
   "metadata": {
    "collapsed": false,
    "ExecuteTime": {
     "end_time": "2024-02-17T04:08:53.410373800Z",
     "start_time": "2024-02-17T04:08:53.392356600Z"
    }
   },
   "id": "c28e04671c5a233d",
   "execution_count": 16
  },
  {
   "cell_type": "code",
   "outputs": [
    {
     "data": {
      "text/plain": "(1, 2, 3)"
     },
     "execution_count": 17,
     "metadata": {},
     "output_type": "execute_result"
    }
   ],
   "source": [
    "a1.ndim, a2.ndim, a3.ndim  # Displays (1, 2, 3) - number of dimensions"
   ],
   "metadata": {
    "collapsed": false,
    "ExecuteTime": {
     "end_time": "2024-02-17T04:09:20.574096300Z",
     "start_time": "2024-02-17T04:09:20.563086600Z"
    }
   },
   "id": "eb70111ee463ed05",
   "execution_count": 17
  },
  {
   "cell_type": "code",
   "outputs": [
    {
     "data": {
      "text/plain": "(dtype('int32'), dtype('float64'), dtype('int32'))"
     },
     "execution_count": 18,
     "metadata": {},
     "output_type": "execute_result"
    }
   ],
   "source": [
    "a1.dtype, a2.dtype, a3.dtype"
   ],
   "metadata": {
    "collapsed": false,
    "ExecuteTime": {
     "end_time": "2024-02-17T04:13:50.081352300Z",
     "start_time": "2024-02-17T04:13:50.061333200Z"
    }
   },
   "id": "1a04750ef13b6ecd",
   "execution_count": 18
  },
  {
   "cell_type": "code",
   "outputs": [
    {
     "data": {
      "text/plain": "(3, 6, 18)"
     },
     "execution_count": 19,
     "metadata": {},
     "output_type": "execute_result"
    }
   ],
   "source": [
    "a1.size, a2.size, a3.size  "
   ],
   "metadata": {
    "collapsed": false,
    "ExecuteTime": {
     "end_time": "2024-02-17T04:14:01.561779900Z",
     "start_time": "2024-02-17T04:14:01.546766700Z"
    }
   },
   "id": "6a639ea08b4518dd",
   "execution_count": 19
  },
  {
   "cell_type": "code",
   "outputs": [
    {
     "data": {
      "text/plain": "(numpy.ndarray, numpy.ndarray, numpy.ndarray)"
     },
     "execution_count": 21,
     "metadata": {},
     "output_type": "execute_result"
    }
   ],
   "source": [
    "type(a1), type(a2), type(a3) # Python function to check the type of an object. ndarray's are universal data types"
   ],
   "metadata": {
    "collapsed": false,
    "ExecuteTime": {
     "end_time": "2024-02-17T04:20:26.153144100Z",
     "start_time": "2024-02-17T04:20:26.127119600Z"
    }
   },
   "id": "6f9925d10ff5e496",
   "execution_count": 21
  },
  {
   "cell_type": "markdown",
   "source": [
    "### Dataframe Creation"
   ],
   "metadata": {
    "collapsed": false
   },
   "id": "7b8b9dffb3c103e8"
  },
  {
   "cell_type": "code",
   "outputs": [
    {
     "data": {
      "text/plain": "     0    1    2\n0  1.0  2.0  3.0\n1  4.0  5.0  6.5",
      "text/html": "<div>\n<style scoped>\n    .dataframe tbody tr th:only-of-type {\n        vertical-align: middle;\n    }\n\n    .dataframe tbody tr th {\n        vertical-align: top;\n    }\n\n    .dataframe thead th {\n        text-align: right;\n    }\n</style>\n<table border=\"1\" class=\"dataframe\">\n  <thead>\n    <tr style=\"text-align: right;\">\n      <th></th>\n      <th>0</th>\n      <th>1</th>\n      <th>2</th>\n    </tr>\n  </thead>\n  <tbody>\n    <tr>\n      <th>0</th>\n      <td>1.0</td>\n      <td>2.0</td>\n      <td>3.0</td>\n    </tr>\n    <tr>\n      <th>1</th>\n      <td>4.0</td>\n      <td>5.0</td>\n      <td>6.5</td>\n    </tr>\n  </tbody>\n</table>\n</div>"
     },
     "execution_count": 23,
     "metadata": {},
     "output_type": "execute_result"
    }
   ],
   "source": [
    "import pandas as pd\n",
    "\n",
    "df = pd.DataFrame(a2)\n",
    "df"
   ],
   "metadata": {
    "collapsed": false
   },
   "id": "3af209ba264df433",
   "execution_count": 23
  }
 ],
 "metadata": {
  "kernelspec": {
   "display_name": "Python 3",
   "language": "python",
   "name": "python3"
  },
  "language_info": {
   "codemirror_mode": {
    "name": "ipython",
    "version": 2
   },
   "file_extension": ".py",
   "mimetype": "text/x-python",
   "name": "python",
   "nbconvert_exporter": "python",
   "pygments_lexer": "ipython2",
   "version": "2.7.6"
  }
 },
 "nbformat": 4,
 "nbformat_minor": 5
}
